{
  "nbformat": 4,
  "nbformat_minor": 0,
  "metadata": {
    "colab": {
      "name": "0509.ipynb",
      "provenance": [],
      "authorship_tag": "ABX9TyOqcVQrQFbf9krR/TmesKsd",
      "include_colab_link": true
    },
    "kernelspec": {
      "name": "python3",
      "display_name": "Python 3"
    },
    "language_info": {
      "name": "python"
    }
  },
  "cells": [
    {
      "cell_type": "markdown",
      "metadata": {
        "id": "view-in-github",
        "colab_type": "text"
      },
      "source": [
        "<a href=\"https://colab.research.google.com/github/icsj10050507/Introduction-to-Computers/blob/main/0509.ipynb\" target=\"_parent\"><img src=\"https://colab.research.google.com/assets/colab-badge.svg\" alt=\"Open In Colab\"/></a>"
      ]
    },
    {
      "cell_type": "code",
      "execution_count": 10,
      "metadata": {
        "colab": {
          "base_uri": "https://localhost:8080/"
        },
        "id": "r2Ra8ZKY7mh-",
        "outputId": "008a5ea7-7ffa-4cf6-c9e4-e544c7e03a06"
      },
      "outputs": [
        {
          "output_type": "stream",
          "name": "stdout",
          "text": [
            "請輸入你的體溫:34.5\n",
            "體溫正常\n"
          ]
        }
      ],
      "source": [
        "c=float(input('請輸入你的體溫:'))\n",
        "if c >= 37.5:\n",
        "    print('體溫過高')\n",
        "elif c < 37.4 and c >= 37:\n",
        "    print('體溫略高')\n",
        "elif c < 36.9 and c>= 34:\n",
        "    print('體溫正常')\n",
        "else :\n",
        "    print('體溫異常,請重新量測')"
      ]
    },
    {
      "cell_type": "code",
      "source": [
        "g = int(input('請輸入你的成績'))\n",
        "if g >= 90 :\n",
        "    print('A')\n",
        "elif 80 <= g <= 89 :\n",
        "    print('B')\n",
        "elif 70 <= g <= 79 :\n",
        "    print('C')\n",
        "elif 60 <= g <= 69 :\n",
        "    print('D')\n",
        "else :\n",
        "    print('E')"
      ],
      "metadata": {
        "colab": {
          "base_uri": "https://localhost:8080/"
        },
        "id": "z_JFpLWG_ihJ",
        "outputId": "ce4b7c42-7e04-492a-ea94-89805191b2ef"
      },
      "execution_count": 12,
      "outputs": [
        {
          "output_type": "stream",
          "name": "stdout",
          "text": [
            "請輸入你的成績99\n",
            "A\n"
          ]
        }
      ]
    },
    {
      "cell_type": "code",
      "source": [
        "m = int(input('請輸入你購物的金額:'))\n",
        "if m >= 10000 :\n",
        "    if m>= 100000 :\n",
        "        print('八折', m*0.8 ,end='元')\n",
        "    elif m>= 50000 :\n",
        "        print('八五折', m*0.85 ,end='元')\n",
        "    elif m>= 30000 :\n",
        "        print('九折', m*0.9 ,end='元')\n",
        "    else :\n",
        "        print('九五折', m*0.95 ,end='元')\n",
        "else :\n",
        "    print('沒打折',m,end='元')"
      ],
      "metadata": {
        "colab": {
          "base_uri": "https://localhost:8080/"
        },
        "id": "xOWDHGoUFDOy",
        "outputId": "2e7f090f-1253-45db-c6fe-17bd217acbfb"
      },
      "execution_count": 19,
      "outputs": [
        {
          "output_type": "stream",
          "name": "stdout",
          "text": [
            "請輸入你購物的金額:60000\n",
            "八五折 51000.0元"
          ]
        }
      ]
    },
    {
      "cell_type": "code",
      "source": [
        "x = int(input('請輸入月份:'))\n",
        "if x == 3 or x == 4 or x == 5 :\n",
        "    print(x,'月是春天',sep='')\n",
        "elif x == 6 or x == 7 or x == 8 :\n",
        "    print(x,'月是夏天',sep='')\n",
        "elif x == 9 or x == 10 or x == 11 :\n",
        "    print(x,'月是秋天',sep='')\n",
        "elif x == 12 or x == 1 or x == 2 :\n",
        "    print(x,'月是冬天',sep='')\n",
        "else :\n",
        "    print('月份不在範圍內')"
      ],
      "metadata": {
        "colab": {
          "base_uri": "https://localhost:8080/"
        },
        "id": "v-ZcmGU5HWs-",
        "outputId": "e37975f9-c320-4aa0-bdda-c7324aa11726"
      },
      "execution_count": 34,
      "outputs": [
        {
          "output_type": "stream",
          "name": "stdout",
          "text": [
            "請輸入月份:10\n",
            "10月是秋天\n"
          ]
        }
      ]
    },
    {
      "cell_type": "code",
      "source": [
        "n = int(input('請輸入今年收入淨額:'))\n",
        "if n >= 2000000 :\n",
        "    print('付稅金額:', n*0.3 ,'元')\n",
        "elif n >= 1000000 :\n",
        "    print('付稅金額:', n*0.21 ,'元')\n",
        "elif n >= 600000 :\n",
        "    print('付稅金額:', n*0.13 ,'元')\n",
        "elif n >= 300000 :\n",
        "    print('付稅金額:', n*0.06 ,'元')\n",
        "else :\n",
        "    print('付稅金額:', n*0 ,'元')"
      ],
      "metadata": {
        "colab": {
          "base_uri": "https://localhost:8080/"
        },
        "id": "yT3MLG1oJdcn",
        "outputId": "b196e399-c957-4885-c421-d32c189895ae"
      },
      "execution_count": 41,
      "outputs": [
        {
          "output_type": "stream",
          "name": "stdout",
          "text": [
            "請輸入今年收入淨額:1500000\n",
            "付稅金額: 315000.0 元\n"
          ]
        }
      ]
    }
  ]
}